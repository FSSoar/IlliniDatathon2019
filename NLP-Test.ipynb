{
 "cells": [
  {
   "cell_type": "code",
   "execution_count": 37,
   "metadata": {},
   "outputs": [],
   "source": [
    "import csv\n",
    "import time\n",
    "import requests\n",
    "from bs4 import BeautifulSoup\n",
    "from pattern.en import ngrams\n",
    "from textblob import TextBlob\n",
    "from textblob import classifiers\n",
    "import pandas as pd"
   ]
  },
  {
   "cell_type": "code",
   "execution_count": 58,
   "metadata": {},
   "outputs": [],
   "source": [
    "PATH1 = 'data/SentimentData/amazon_cells_labelled.txt'\n",
    "PATH2 = 'data/SentimentData/imdb_labelled.txt'\n",
    "PATH3 = 'data/SentimentData/yelp_labelled.txt'\n",
    "\n",
    "amazon_data = pd.read_csv(PATH1, sep='\\t', header=None, names=['sentence', 'sentiment'])\n",
    "imdb_data = pd.read_csv(PATH2, sep='\\t', header=None, names=['sentence', 'sentiment'])\n",
    "yelp_data = pd.read_csv(PATH3, sep='\\t', header=None, names=['sentence', 'sentiment'])"
   ]
  },
  {
   "cell_type": "code",
   "execution_count": 106,
   "metadata": {},
   "outputs": [],
   "source": [
    "total_data = amazon_data\n",
    "total_data = total_data.append(imdb_data, ignore_index=True)\n",
    "total_data = total_data.append(yelp_data, ignore_index=True)"
   ]
  },
  {
   "cell_type": "code",
   "execution_count": 144,
   "metadata": {},
   "outputs": [
    {
     "name": "stdout",
     "output_type": "stream",
     "text": [
      "2748\n",
      "2000\n"
     ]
    }
   ],
   "source": [
    "train_data_full = [tuple(x) for x in total_data.values]\n",
    "train_data = train_data_full[:2000]\n",
    "print(len(train_data))"
   ]
  },
  {
   "cell_type": "code",
   "execution_count": 145,
   "metadata": {},
   "outputs": [
    {
     "name": "stdout",
     "output_type": "stream",
     "text": [
      "training NLP classifier...\n",
      "done\n"
     ]
    }
   ],
   "source": [
    "print('training NLP classifier...')\n",
    "classifier = classifiers.NaiveBayesClassifier(train_data)\n",
    "classifier.train()\n",
    "print('done')"
   ]
  },
  {
   "cell_type": "code",
   "execution_count": 146,
   "metadata": {},
   "outputs": [
    {
     "name": "stdout",
     "output_type": "stream",
     "text": [
      "classifying...\n",
      "result\n",
      "0.6754882030498195\n"
     ]
    }
   ],
   "source": [
    "print('classifying...')\n",
    "prob_dist = classifier.prob_classify(\"Stocks are terrible\")\n",
    "print('result')\n",
    "print(prob_dist.prob(0))"
   ]
  },
  {
   "cell_type": "code",
   "execution_count": 147,
   "metadata": {},
   "outputs": [
    {
     "data": {
      "text/plain": [
       "0.7593582887700535"
      ]
     },
     "execution_count": 147,
     "metadata": {},
     "output_type": "execute_result"
    }
   ],
   "source": [
    "classifier.accuracy(train_data_full[2000:])"
   ]
  },
  {
   "cell_type": "code",
   "execution_count": 152,
   "metadata": {},
   "outputs": [],
   "source": [
    "??search"
   ]
  },
  {
   "cell_type": "code",
   "execution_count": 167,
   "metadata": {},
   "outputs": [],
   "source": [
    "from newsapi import NewsApiClient\n",
    "\n",
    "key = '8b8428b3603940ef8485d39a6eb526f2'\n",
    "news = NewsApiClient(api_key=key)\n",
    "\n",
    "companies = {'Synchrony Financial': [],\n",
    "            '3M': [],\n",
    "            'Bayer': [],\n",
    "            'Honeywell': []}\n",
    "\n",
    "ARTICLE_COUNT = 5\n",
    "\n",
    "for company in companies:\n",
    "    query = company + \" News\"\n",
    "    all_articles = news.get_everything(q=query, from_param='2019-02-01',to='2019-02-02', language='en', sort_by='relevancy')\n",
    "    article_data = all_articles['articles']\n",
    "    for i in range(ARTICLE_COUNT):\n",
    "        try:\n",
    "            titlePlusSummary = article_data[i]['title'] + '. ' + article_data[i]['description']\n",
    "            companies[company].append(titlePlusSummary)\n",
    "        except:\n",
    "            break"
   ]
  },
  {
   "cell_type": "code",
   "execution_count": 168,
   "metadata": {},
   "outputs": [
    {
     "name": "stdout",
     "output_type": "stream",
     "text": [
      "{'Synchrony Financial': [\"Synchrony's Investors Have 2 Big Reasons to Smile. The store credit card giant just gave investors some welcome news along with its fourth-quarter earnings.\", \"5 Top Stocks to Buy in February. Even after January's rally, these stocks look like bargains to our contributors.\", 'Zacks.com featured expert Kevin Matras highlights: HD Supply, Synchrony Financial and Alaska Air. Zacks.com featured expert Kevin Matras highlights: HD Supply, Synchrony Financial and Alaska Air', \"5 Top Stocks to Buy in February. Even after January's rally, these stocks look like bargains to our contributors.\", 'Three Highlights from @CloudEXPO NY | #Cloud #CIO #DevOps #Blockchain #DataCenter #ArtificialIntelligence. The term \"digital transformation\" (DX) is being used by everyone for just about any company initiative that involves technology, the web, ecommerce, software, or even customer experience. While the term has certainly turned into a buzzword with a lot of hype,…'], '3M': [\"3M Opens 2019 on an Unimpressive Note. There were some positives from 3M's earnings report, but a cut in guidance raises questions about the highly rated stock's right to command a premium rating.\", 'Researchers Show How Not to Waste Waste. A number of studies about number two -- Read more on ScientificAmerican.com', 'Why Wolves Striker Raul Jimenez Has Been the Signing of the Season in the Premier League. News from around the web.', \"3M Opens 2019 on an Unimpressive Note. There were some positives from 3M's earnings report, but a cut in guidance raises questions about the highly rated stock's right to command a premium rating.\", '‘The devastation of human life is in view’: what a burning world tells us about climate change. I was wilfully deluded until I began covering global warming, says David Wallace-Wells. But extreme heat could transform the planet by 2100 I have never been an environmentalist. I don’t even think of myself as a nature person. I’ve lived my whole life in cit…'], 'Bayer': ['Bayer Leverkusen-Bayern Munich | Alineaciones confirmadas. News from around the web.', 'Bayer Leverkusen 3-1 Bayern Munich: Report, Ratings & Reaction as Champions Lose Ground Again. News from around the web.', 'Frankfurt 1-1 Dortmund: Report, Ratings & Reaction as Die Borussen Extend Bundesliga Lead. News from around the web.', 'Sky Bet EFL LIVE!. The best sports coverage from around the world, covering: Football, Cricket, Golf, Rugby, WWE, Boxing, Tennis and much more.', 'WATCH: League Two goals. The best sports coverage from around the world, covering: Football, Cricket, Golf, Rugby, WWE, Boxing, Tennis and much more.'], 'Honeywell': ['Honeywell International Inc (HON) Q4 2018 Earnings Conference Call Transcript. HON earnings call for the period ending December 31, 2018.', '12 Stocks To Watch For February 1, 2019 - Benzinga. 12 Stocks To Watch For February 1, 2019 Benzinga Exxon Mobil shares jump nearly 2 percent as quarterly profits top expectations CNBC Exxon Mobil Surges on Wide Fourth-Quarter Earnings Beat TheStreet.com View full coverage on Google News', \"Honeywell's (HON) Q4 Earnings and Revenues Beat Estimates. Honeywell's (HON) Q4 earnings and revenues outpace estimates on the back of strength in its long-cycle businesses in U.S. defense, commercial aerospace as well as warehouse automation.\", 'Stocks rise after blowout jobs report - Fox Business. Stocks rise after blowout jobs report Fox Business The U.S. economy is expected to have added 165000 jobs in January.', \"Honeywell forecasts strong earnings on higher demand for aircraft parts. By Divya R and Ankit Ajmera (Reuters) - Honeywell International Inc on Friday forecast full-year earnings in a range that was largely above analysts' estimates, as the company benefited from robust demand for aircraft parts in a booming airline industry. The …\"]}\n"
     ]
    }
   ],
   "source": [
    "print(companies)"
   ]
  },
  {
   "cell_type": "code",
   "execution_count": 170,
   "metadata": {},
   "outputs": [
    {
     "name": "stdout",
     "output_type": "stream",
     "text": [
      "{'Synchrony Financial': 1.3697317812082912, '3M': 1.5567991879540197, 'Bayer': 3.6251427205105813, 'Honeywell': 2.003248803329603}\n"
     ]
    }
   ],
   "source": [
    "# Open the choosen news articles and extract the title\n",
    "title_to_polarity = {}\n",
    "net_company_scores = {}\n",
    "for company in companies:\n",
    "    net_company_scores[company] = 0\n",
    "    count = 0\n",
    "    for summary in companies[company]:\n",
    "        try:\n",
    "            prob_1 = classifier.prob_classify(summary).prob(1)\n",
    "            title_to_polarity[summary] = prob_1\n",
    "            net_company_scores[company] += prob_1\n",
    "        except:\n",
    "            continue\n",
    "    if count:\n",
    "        net_company_scores[company] /= count\n",
    "\n",
    "print(net_company_scores)"
   ]
  },
  {
   "cell_type": "code",
   "execution_count": 171,
   "metadata": {},
   "outputs": [
    {
     "name": "stdout",
     "output_type": "stream",
     "text": [
      "{\"Synchrony's Investors Have 2 Big Reasons to Smile. The store credit card giant just gave investors some welcome news along with its fourth-quarter earnings.\": 0.5093374403944637, \"5 Top Stocks to Buy in February. Even after January's rally, these stocks look like bargains to our contributors.\": 0.004913103023015138, 'Zacks.com featured expert Kevin Matras highlights: HD Supply, Synchrony Financial and Alaska Air. Zacks.com featured expert Kevin Matras highlights: HD Supply, Synchrony Financial and Alaska Air': 0.8491737287107234, 'Three Highlights from @CloudEXPO NY | #Cloud #CIO #DevOps #Blockchain #DataCenter #ArtificialIntelligence. The term \"digital transformation\" (DX) is being used by everyone for just about any company initiative that involves technology, the web, ecommerce, software, or even customer experience. While the term has certainly turned into a buzzword with a lot of hype,…': 0.0013944060570735702, \"3M Opens 2019 on an Unimpressive Note. There were some positives from 3M's earnings report, but a cut in guidance raises questions about the highly rated stock's right to command a premium rating.\": 0.2808392227874415, 'Researchers Show How Not to Waste Waste. A number of studies about number two -- Read more on ScientificAmerican.com': 0.00022030784839364374, 'Why Wolves Striker Raul Jimenez Has Been the Signing of the Season in the Premier League. News from around the web.': 0.9422571285760695, '‘The devastation of human life is in view’: what a burning world tells us about climate change. I was wilfully deluded until I began covering global warming, says David Wallace-Wells. But extreme heat could transform the planet by 2100 I have never been an environmentalist. I don’t even think of myself as a nature person. I’ve lived my whole life in cit…': 0.05264330595467351, 'Bayer Leverkusen-Bayern Munich | Alineaciones confirmadas. News from around the web.': 0.8750439976431017, 'Bayer Leverkusen 3-1 Bayern Munich: Report, Ratings & Reaction as Champions Lose Ground Again. News from around the web.': 0.5997607228744747, 'Frankfurt 1-1 Dortmund: Report, Ratings & Reaction as Die Borussen Extend Bundesliga Lead. News from around the web.': 0.8871484785209677, 'Sky Bet EFL LIVE!. The best sports coverage from around the world, covering: Football, Cricket, Golf, Rugby, WWE, Boxing, Tennis and much more.': 0.512358560294672, 'WATCH: League Two goals. The best sports coverage from around the world, covering: Football, Cricket, Golf, Rugby, WWE, Boxing, Tennis and much more.': 0.7508309611773654, 'Honeywell International Inc (HON) Q4 2018 Earnings Conference Call Transcript. HON earnings call for the period ending December 31, 2018.': 0.6116318152727563, '12 Stocks To Watch For February 1, 2019 - Benzinga. 12 Stocks To Watch For February 1, 2019 Benzinga Exxon Mobil shares jump nearly 2 percent as quarterly profits top expectations CNBC Exxon Mobil Surges on Wide Fourth-Quarter Earnings Beat TheStreet.com View full coverage on Google News': 0.006863698072053094, \"Honeywell's (HON) Q4 Earnings and Revenues Beat Estimates. Honeywell's (HON) Q4 earnings and revenues outpace estimates on the back of strength in its long-cycle businesses in U.S. defense, commercial aerospace as well as warehouse automation.\": 0.4302348920881523, 'Stocks rise after blowout jobs report - Fox Business. Stocks rise after blowout jobs report Fox Business The U.S. economy is expected to have added 165000 jobs in January.': 0.06553615758059676, \"Honeywell forecasts strong earnings on higher demand for aircraft parts. By Divya R and Ankit Ajmera (Reuters) - Honeywell International Inc on Friday forecast full-year earnings in a range that was largely above analysts' estimates, as the company benefited from robust demand for aircraft parts in a booming airline industry. The …\": 0.8889822403160444}\n"
     ]
    }
   ],
   "source": [
    "print(title_to_polarity)"
   ]
  }
 ],
 "metadata": {
  "kernelspec": {
   "display_name": "Python 3",
   "language": "python",
   "name": "python3"
  },
  "language_info": {
   "codemirror_mode": {
    "name": "ipython",
    "version": 3
   },
   "file_extension": ".py",
   "mimetype": "text/x-python",
   "name": "python",
   "nbconvert_exporter": "python",
   "pygments_lexer": "ipython3",
   "version": "3.6.5"
  }
 },
 "nbformat": 4,
 "nbformat_minor": 2
}
